{
 "cells": [
  {
   "cell_type": "code",
   "execution_count": null,
   "metadata": {},
   "outputs": [],
   "source": [
    "import pathlib\n",
    "from maxone_code.selectelectrode import scan\n",
    "\n",
    "import sys\n",
    "sys.path.append('../')\n",
    "from localconfig import BASE_PATH,EXPS\n",
    "\n",
    "EXP=EXPS[0]\n",
    "print(EXP)\n",
    "print(BASE_PATH)"
   ]
  },
  {
   "cell_type": "code",
   "execution_count": null,
   "metadata": {},
   "outputs": [],
   "source": [
    "base_path=pathlib.Path(BASE_PATH)\n",
    "# config_path=pathlib.Path('/home/maxone/MaxLab/configs/sak/2204/180517.cfg').__str__()\n",
    "config_path=pathlib.Path('/home/maxone/MaxLab/configs/sakurayama/C3634/190826.cfg').__str__()\n",
    "# config_path=pathlib.Path('/home/maxone/MaxLab/configs/190904/20h47m54s.cfg').__str__()\n",
    "output_path=base_path.joinpath('data',EXP,'selectelectrode','raw','activity').__str__()"
   ]
  },
  {
   "cell_type": "code",
   "execution_count": null,
   "metadata": {
    "pycharm": {
     "name": "#%%\n"
    }
   },
   "outputs": [],
   "source": [
    "scan(config_path,output_path,isOnlySpike=False)\n"
   ]
  }
 ],
 "metadata": {
  "kernelspec": {
   "display_name": "Python 3",
   "language": "python",
   "name": "python3"
  },
  "language_info": {
   "codemirror_mode": {
    "name": "ipython",
    "version": 3
   },
   "file_extension": ".py",
   "mimetype": "text/x-python",
   "name": "python",
   "nbconvert_exporter": "python",
   "pygments_lexer": "ipython3",
   "version": "3.7.4"
  },
  "toc": {
   "base_numbering": 1,
   "nav_menu": {},
   "number_sections": true,
   "sideBar": true,
   "skip_h1_title": false,
   "title_cell": "Table of Contents",
   "title_sidebar": "Contents",
   "toc_cell": false,
   "toc_position": {},
   "toc_section_display": true,
   "toc_window_display": false
  },
  "pycharm": {
   "stem_cell": {
    "cell_type": "raw",
    "source": [],
    "metadata": {
     "collapsed": false
    }
   }
  }
 },
 "nbformat": 4,
 "nbformat_minor": 2
}
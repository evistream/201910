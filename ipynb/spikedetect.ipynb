{
 "cells": [
  {
   "cell_type": "code",
   "execution_count": 1,
   "metadata": {
    "ExecuteTime": {
     "end_time": "2019-11-05T01:11:28.859199Z",
     "start_time": "2019-11-05T01:11:28.848829Z"
    }
   },
   "outputs": [
    {
     "name": "stdout",
     "output_type": "stream",
     "text": [
      "C9999_20191031\n",
      "/Users/KozSakk/Documents/research/sakurayama/201910\n"
     ]
    }
   ],
   "source": [
    "import sys\n",
    "# sys.path.append('../code') # code\n",
    "sys.path.append('../') #201910\n",
    "\n",
    "from localconfig import BASE_PATH,EXPS\n",
    "EXP=EXPS[0]\n",
    "print(EXP)\n",
    "print(BASE_PATH)\n"
   ]
  },
  {
   "cell_type": "code",
   "execution_count": 2,
   "metadata": {
    "ExecuteTime": {
     "end_time": "2019-11-05T01:11:30.577422Z",
     "start_time": "2019-11-05T01:11:29.634788Z"
    }
   },
   "outputs": [
    {
     "name": "stdout",
     "output_type": "stream",
     "text": [
      "['/Users/KozSakk/Documents/research/sakurayama/201910/ipynb',\n",
      " '/usr/local/Cellar/python/3.7.4_1/Frameworks/Python.framework/Versions/3.7/lib/python37.zip',\n",
      " '/usr/local/Cellar/python/3.7.4_1/Frameworks/Python.framework/Versions/3.7/lib/python3.7',\n",
      " '/usr/local/Cellar/python/3.7.4_1/Frameworks/Python.framework/Versions/3.7/lib/python3.7/lib-dynload',\n",
      " '',\n",
      " '/Users/KozSakk/venv/lib/python3.7/site-packages',\n",
      " '/Users/KozSakk/venv/lib/python3.7/site-packages/IPython/extensions',\n",
      " '/Users/KozSakk/.ipython',\n",
      " '../']\n"
     ]
    }
   ],
   "source": [
    "import sys\n",
    "from pprint import pprint\n",
    "pprint(sys.path)\n",
    "\n",
    "import pathlib\n",
    "from maxone_code.data import RawFile\n",
    "\n",
    "import numpy as np\n",
    "np.set_printoptions(threshold=1050)\n",
    "\n",
    "from maxone_code.spikedetect import BandPassFilter\n",
    "from maxone_code.util import SAMPLING_FREQ\n",
    "from maxone_code.data import CfgFile"
   ]
  },
  {
   "cell_type": "code",
   "execution_count": 3,
   "metadata": {
    "ExecuteTime": {
     "end_time": "2019-11-05T01:11:30.718822Z",
     "start_time": "2019-11-05T01:11:30.713311Z"
    }
   },
   "outputs": [],
   "source": [
    "path= pathlib.Path(BASE_PATH).joinpath('data',EXP,'selectelectrode','raw','test1.raw.h5')"
   ]
  },
  {
   "cell_type": "code",
   "execution_count": 5,
   "metadata": {
    "ExecuteTime": {
     "end_time": "2019-11-05T01:11:44.134448Z",
     "start_time": "2019-11-05T01:11:43.895156Z"
    }
   },
   "outputs": [
    {
     "name": "stdout",
     "output_type": "stream",
     "text": [
      "sig shape: (1028, 6000000)\n",
      "record len: 300[s]\n",
      "record channels: 961\n"
     ]
    }
   ],
   "source": [
    "raw_data=RawFile(str(path))\n",
    "raw_data.disp()"
   ]
  },
  {
   "cell_type": "code",
   "execution_count": 18,
   "metadata": {
    "ExecuteTime": {
     "end_time": "2019-11-05T01:01:47.279654Z",
     "start_time": "2019-11-05T01:01:47.234795Z"
    }
   },
   "outputs": [],
   "source": [
    "path=\"/Users/KozSakk/Downloads/190826.cfg\"\n",
    "cfg = CfgFile(path)"
   ]
  },
  {
   "cell_type": "code",
   "execution_count": 19,
   "metadata": {
    "ExecuteTime": {
     "end_time": "2019-11-05T01:01:47.810606Z",
     "start_time": "2019-11-05T01:01:47.806653Z"
    }
   },
   "outputs": [],
   "source": [
    "# cfg.record_electrode"
   ]
  },
  {
   "cell_type": "code",
   "execution_count": 7,
   "metadata": {
    "ExecuteTime": {
     "end_time": "2019-11-05T01:11:57.389592Z",
     "start_time": "2019-11-05T01:11:57.317706Z"
    }
   },
   "outputs": [],
   "source": [
    "stimsig=raw_data.stimsig"
   ]
  },
  {
   "cell_type": "code",
   "execution_count": 8,
   "metadata": {
    "ExecuteTime": {
     "end_time": "2019-11-05T00:59:04.599254Z",
     "start_time": "2019-11-05T00:57:58.662232Z"
    }
   },
   "outputs": [],
   "source": [
    "sig = raw_data.sig\n",
    "start = 20\n",
    "sec = 250\n",
    "\n",
    "size_of_recored_eles=raw_data.channelmap[-1]+1\n",
    "startframe=20000*start\n",
    "length=20000*sec\n",
    "# length=1000\n",
    "\n",
    "i = 200\n",
    "lfp = np.zeros((length),dtype=sig.dtype)\n",
    "sig.read_direct(lfp,source_sel=np.s_[raw_data.channelmap[i],startframe:startframe+length],dest_sel=np.s_[0:length])\n"
   ]
  },
  {
   "cell_type": "code",
   "execution_count": 7,
   "metadata": {
    "ExecuteTime": {
     "end_time": "2019-11-04T12:24:33.731406Z",
     "start_time": "2019-11-04T12:24:33.375979Z"
    }
   },
   "outputs": [],
   "source": [
    "fil=BandPassFilter(lowcut=30,highcut=3000,fs=20000)\n",
    "bpf = raw_data.lsb_uV*fil.filter(lfp)"
   ]
  },
  {
   "cell_type": "code",
   "execution_count": 35,
   "metadata": {
    "ExecuteTime": {
     "end_time": "2019-11-04T12:06:31.460732Z",
     "start_time": "2019-11-04T12:06:31.453789Z"
    }
   },
   "outputs": [],
   "source": [
    "y = np.random.random((5,9))"
   ]
  },
  {
   "cell_type": "code",
   "execution_count": 36,
   "metadata": {
    "ExecuteTime": {
     "end_time": "2019-11-04T12:06:32.793322Z",
     "start_time": "2019-11-04T12:06:32.779938Z"
    }
   },
   "outputs": [],
   "source": [
    "ids = bpf > 0.0\n",
    "# ids"
   ]
  },
  {
   "cell_type": "code",
   "execution_count": 37,
   "metadata": {
    "ExecuteTime": {
     "end_time": "2019-11-04T12:06:34.103759Z",
     "start_time": "2019-11-04T12:06:34.018520Z"
    }
   },
   "outputs": [
    {
     "data": {
      "text/plain": [
       "0.011938174346304923"
      ]
     },
     "execution_count": 37,
     "metadata": {},
     "output_type": "execute_result"
    }
   ],
   "source": [
    "np.median(bpf)"
   ]
  },
  {
   "cell_type": "code",
   "execution_count": 22,
   "metadata": {
    "ExecuteTime": {
     "end_time": "2019-11-04T12:02:16.018667Z",
     "start_time": "2019-11-04T12:02:16.012870Z"
    }
   },
   "outputs": [
    {
     "name": "stdout",
     "output_type": "stream",
     "text": [
      "Help on function median in module numpy:\n",
      "\n",
      "median(a, axis=None, out=None, overwrite_input=False, keepdims=False)\n",
      "    Compute the median along the specified axis.\n",
      "    \n",
      "    Returns the median of the array elements.\n",
      "    \n",
      "    Parameters\n",
      "    ----------\n",
      "    a : array_like\n",
      "        Input array or object that can be converted to an array.\n",
      "    axis : {int, sequence of int, None}, optional\n",
      "        Axis or axes along which the medians are computed. The default\n",
      "        is to compute the median along a flattened version of the array.\n",
      "        A sequence of axes is supported since version 1.9.0.\n",
      "    out : ndarray, optional\n",
      "        Alternative output array in which to place the result. It must\n",
      "        have the same shape and buffer length as the expected output,\n",
      "        but the type (of the output) will be cast if necessary.\n",
      "    overwrite_input : bool, optional\n",
      "       If True, then allow use of memory of input array `a` for\n",
      "       calculations. The input array will be modified by the call to\n",
      "       `median`. This will save memory when you do not need to preserve\n",
      "       the contents of the input array. Treat the input as undefined,\n",
      "       but it will probably be fully or partially sorted. Default is\n",
      "       False. If `overwrite_input` is ``True`` and `a` is not already an\n",
      "       `ndarray`, an error will be raised.\n",
      "    keepdims : bool, optional\n",
      "        If this is set to True, the axes which are reduced are left\n",
      "        in the result as dimensions with size one. With this option,\n",
      "        the result will broadcast correctly against the original `arr`.\n",
      "    \n",
      "        .. versionadded:: 1.9.0\n",
      "    \n",
      "    Returns\n",
      "    -------\n",
      "    median : ndarray\n",
      "        A new array holding the result. If the input contains integers\n",
      "        or floats smaller than ``float64``, then the output data-type is\n",
      "        ``np.float64``.  Otherwise, the data-type of the output is the\n",
      "        same as that of the input. If `out` is specified, that array is\n",
      "        returned instead.\n",
      "    \n",
      "    See Also\n",
      "    --------\n",
      "    mean, percentile\n",
      "    \n",
      "    Notes\n",
      "    -----\n",
      "    Given a vector ``V`` of length ``N``, the median of ``V`` is the\n",
      "    middle value of a sorted copy of ``V``, ``V_sorted`` - i\n",
      "    e., ``V_sorted[(N-1)/2]``, when ``N`` is odd, and the average of the\n",
      "    two middle values of ``V_sorted`` when ``N`` is even.\n",
      "    \n",
      "    Examples\n",
      "    --------\n",
      "    >>> a = np.array([[10, 7, 4], [3, 2, 1]])\n",
      "    >>> a\n",
      "    array([[10,  7,  4],\n",
      "           [ 3,  2,  1]])\n",
      "    >>> np.median(a)\n",
      "    3.5\n",
      "    >>> np.median(a, axis=0)\n",
      "    array([6.5, 4.5, 2.5])\n",
      "    >>> np.median(a, axis=1)\n",
      "    array([7.,  2.])\n",
      "    >>> m = np.median(a, axis=0)\n",
      "    >>> out = np.zeros_like(m)\n",
      "    >>> np.median(a, axis=0, out=m)\n",
      "    array([6.5,  4.5,  2.5])\n",
      "    >>> m\n",
      "    array([6.5,  4.5,  2.5])\n",
      "    >>> b = a.copy()\n",
      "    >>> np.median(b, axis=1, overwrite_input=True)\n",
      "    array([7.,  2.])\n",
      "    >>> assert not np.all(a==b)\n",
      "    >>> b = a.copy()\n",
      "    >>> np.median(b, axis=None, overwrite_input=True)\n",
      "    3.5\n",
      "    >>> assert not np.all(a==b)\n",
      "\n"
     ]
    }
   ],
   "source": [
    "help(np.median)"
   ]
  },
  {
   "cell_type": "code",
   "execution_count": null,
   "metadata": {},
   "outputs": [],
   "source": []
  }
 ],
 "metadata": {
  "kernelspec": {
   "display_name": "Python 3",
   "language": "python",
   "name": "python3"
  },
  "language_info": {
   "codemirror_mode": {
    "name": "ipython",
    "version": 3
   },
   "file_extension": ".py",
   "mimetype": "text/x-python",
   "name": "python",
   "nbconvert_exporter": "python",
   "pygments_lexer": "ipython3",
   "version": "3.7.4"
  },
  "pycharm": {
   "stem_cell": {
    "cell_type": "raw",
    "metadata": {
     "collapsed": false
    },
    "source": []
   }
  },
  "toc": {
   "base_numbering": 1,
   "nav_menu": {},
   "number_sections": true,
   "sideBar": true,
   "skip_h1_title": false,
   "title_cell": "Table of Contents",
   "title_sidebar": "Contents",
   "toc_cell": false,
   "toc_position": {},
   "toc_section_display": true,
   "toc_window_display": false
  }
 },
 "nbformat": 4,
 "nbformat_minor": 2
}

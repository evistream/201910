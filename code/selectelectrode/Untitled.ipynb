{
 "cells": [
  {
   "cell_type": "code",
   "execution_count": null,
   "metadata": {},
   "outputs": [],
   "source": [
    "import pathlib\n",
    "from scan import scan\n",
    "from scan import scan_sak\n",
    "\n",
    "import sys\n",
    "sys.path.append('../../')\n",
    "from localconfig import BASE_PATH,EXPS\n",
    "\n",
    "EXP=EXPS[0]\n",
    "print(EXP)\n",
    "print(BASE_PATH)"
   ]
  },
  {
   "cell_type": "code",
   "execution_count": null,
   "metadata": {},
   "outputs": [],
   "source": [
    "base_path=pathlib.Path(BASE_PATH)\n",
    "# config_path=pathlib.Path('/home/maxone/MaxLab/configs/sak/2204/180517.cfg').__str__()\n",
    "# config_path=pathlib.Path('/home/maxone/MaxLab/configs/sakurayama/C3634/190826.cfg').__str__()\n",
    "# config_path=pathlib.Path('/home/maxone/MaxLab/configs/190904/20h47m54s.cfg').__str__()\n",
    "output_path=base_path.joinpath('data',EXP,'selectelectrode','raw','activity').__str__()"
   ]
  },
  {
   "cell_type": "code",
   "execution_count": null,
   "metadata": {},
   "outputs": [],
   "source": [
    "scan(config_path,output_path,length=3,isOnlySpike=True)"
   ]
  },
  {
   "cell_type": "code",
   "execution_count": null,
   "metadata": {},
   "outputs": [],
   "source": [
    "scan_sak(config_path,output_path,length=3,isOnlySpike=True)"
   ]
  }
 ],
 "metadata": {
  "kernelspec": {
   "display_name": "Python 3",
   "language": "python",
   "name": "python3"
  },
  "language_info": {
   "codemirror_mode": {
    "name": "ipython",
    "version": 3
   },
   "file_extension": ".py",
   "mimetype": "text/x-python",
   "name": "python",
   "nbconvert_exporter": "python",
   "pygments_lexer": "ipython3",
   "version": "3.6.8"
  }
 },
 "nbformat": 4,
 "nbformat_minor": 2
}
